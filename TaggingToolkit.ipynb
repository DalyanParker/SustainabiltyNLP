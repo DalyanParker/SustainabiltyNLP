{
 "cells": [
  {
   "cell_type": "code",
   "execution_count": 1,
   "metadata": {},
   "outputs": [],
   "source": [
    "import json\n",
    "import nltk\n",
    "import re"
   ]
  },
  {
   "cell_type": "code",
   "execution_count": 2,
   "metadata": {},
   "outputs": [],
   "source": [
    "def readFile(filepath): \n",
    "    \n",
    "    with open(filepath, 'r') as f:\n",
    "        stories = json.load(f)\n",
    "        \n",
    "    return stories"
   ]
  },
  {
   "cell_type": "code",
   "execution_count": 7,
   "metadata": {},
   "outputs": [],
   "source": [
    "stories = readFile('Cleaned/cleaned_scale.json')"
   ]
  },
  {
   "cell_type": "code",
   "execution_count": 8,
   "metadata": {},
   "outputs": [],
   "source": [
    "def expressionFilter(text, expression):\n",
    "    \n",
    "    filtered_list = []\n",
    "    \n",
    "    for word in text: \n",
    "\n",
    "        if (re.match(expression, word)):\n",
    "            \n",
    "            filtered_list.append(word)\n",
    "            \n",
    "    return filtered_list"
   ]
  },
  {
   "cell_type": "code",
   "execution_count": 10,
   "metadata": {},
   "outputs": [],
   "source": [
    "def tag(words):\n",
    "    \n",
    "    tags = []\n",
    "    \n",
    "    for w in words:\n",
    "        \n",
    "        word = nltk.word_tokenize(w)\n",
    "        tags.append(nltk.pos_tag(word)[0])\n",
    "\n",
    "    return tags"
   ]
  },
  {
   "cell_type": "code",
   "execution_count": 11,
   "metadata": {},
   "outputs": [],
   "source": [
    "def filterByTag(tag_list, search_tags):\n",
    "    \n",
    "    filtered_list = []\n",
    "    \n",
    "    # search_tags is a string\n",
    "    \n",
    "    if isinstance(search_tags, str):\n",
    "        search_tags = [search_tags]\n",
    "    \n",
    "    # search_tags is a list\n",
    "    \n",
    "    if isinstance(search_tags, list):\n",
    "        for pair in tag_list:\n",
    "            for tag in search_tags:\n",
    "                if (pair[1] == tag): \n",
    "                    filtered_list.append(pair)\n",
    "                \n",
    "    return filtered_list"
   ]
  },
  {
   "cell_type": "code",
   "execution_count": null,
   "metadata": {},
   "outputs": [],
   "source": [
    "# Examples"
   ]
  },
  {
   "cell_type": "code",
   "execution_count": 9,
   "metadata": {},
   "outputs": [],
   "source": [
    "# Expressions :\n",
    "# Begins with Capital : \"^[A-Z].*\""
   ]
  },
  {
   "cell_type": "code",
   "execution_count": 15,
   "metadata": {},
   "outputs": [],
   "source": [
    "capitals = expressionFilter(stories[0]['cleaned_text'], \"^[A-Z].*\")"
   ]
  },
  {
   "cell_type": "code",
   "execution_count": 16,
   "metadata": {},
   "outputs": [
    {
     "data": {
      "text/plain": [
       "[('California', 'NNP'),\n",
       " ('PG', 'NN'),\n",
       " ('E', 'NN'),\n",
       " ('Fire', 'NN'),\n",
       " ('Sonoma', 'NN'),\n",
       " ('County', 'NNP'),\n",
       " ('Gov', 'NN'),\n",
       " ('Gavin', 'NN'),\n",
       " ('Newsom', 'NN'),\n",
       " ('Power', 'NN'),\n",
       " ('LDAs', 'NN'),\n",
       " ('LDA', 'NN'),\n",
       " ('EVs', 'NN'),\n",
       " ('V2G', 'NN'),\n",
       " ('McKinsey', 'NN'),\n",
       " ('Arizona', 'NN'),\n",
       " ('DERs', 'NN'),\n",
       " ('US', 'NN'),\n",
       " ('Coalition', 'NN'),\n",
       " ('Tier', 'NN'),\n",
       " ('Vote', 'NN'),\n",
       " ('Safety', 'NN'),\n",
       " ('Shutoff', 'NN'),\n",
       " ('PSPS', 'NN'),\n",
       " ('Tesla', 'NN'),\n",
       " ('Smart', 'NN'),\n",
       " ('San', 'NNP'),\n",
       " ('Diego', 'NN'),\n",
       " ('Gas', 'NNP'),\n",
       " ('Electric', 'NNP'),\n",
       " ('Imagine', 'NN'),\n",
       " ('ITC', 'NN'),\n",
       " ('Net', 'NN'),\n",
       " ('Stone', 'NN'),\n",
       " ('Edge', 'NN'),\n",
       " ('Farm', 'NN'),\n",
       " ('Microgrid', 'NN'),\n",
       " ('R', 'NN'),\n",
       " ('Energy', 'NNP'),\n",
       " ('Commission', 'NNP'),\n",
       " ('CPUC', 'NN'),\n",
       " ('Sunrun', 'NN'),\n",
       " ('Storage', 'NN'),\n",
       " ('Association', 'NNP'),\n",
       " ('DER', 'NN'),\n",
       " ('Self', 'NN'),\n",
       " ('Generation', 'NN'),\n",
       " ('Incentive', 'NN'),\n",
       " ('Program', 'NN'),\n",
       " ('SGIP', 'NN')]"
      ]
     },
     "execution_count": 16,
     "metadata": {},
     "output_type": "execute_result"
    }
   ],
   "source": [
    "filterByTag(tag(capitals), ['NNP', 'NN'])"
   ]
  },
  {
   "cell_type": "code",
   "execution_count": null,
   "metadata": {},
   "outputs": [],
   "source": []
  }
 ],
 "metadata": {
  "kernelspec": {
   "display_name": "Python 3",
   "language": "python",
   "name": "python3"
  },
  "language_info": {
   "codemirror_mode": {
    "name": "ipython",
    "version": 3
   },
   "file_extension": ".py",
   "mimetype": "text/x-python",
   "name": "python",
   "nbconvert_exporter": "python",
   "pygments_lexer": "ipython3",
   "version": "3.7.6"
  }
 },
 "nbformat": 4,
 "nbformat_minor": 4
}
