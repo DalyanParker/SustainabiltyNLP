{
 "cells": [
  {
   "cell_type": "code",
   "execution_count": 2,
   "metadata": {},
   "outputs": [],
   "source": [
    "import json"
   ]
  },
  {
   "cell_type": "code",
   "execution_count": 3,
   "metadata": {},
   "outputs": [],
   "source": [
    "with open('Stories/stories.json', 'r') as f:\n",
    "        stories = json.load(f)"
   ]
  },
  {
   "cell_type": "code",
   "execution_count": 4,
   "metadata": {},
   "outputs": [],
   "source": [
    "# Quick Note : { 'title', 'date', 'authors', ' publication_name', 'full_text' } "
   ]
  },
  {
   "cell_type": "code",
   "execution_count": 5,
   "metadata": {},
   "outputs": [],
   "source": [
    "def containsMatch(keyword, text):\n",
    "    \n",
    "    # Check if text is null\n",
    "    \n",
    "    if (text == None) : return False \n",
    "    \n",
    "    # Check if keyword is present\n",
    "    \n",
    "    elif (keyword in text) : return True\n",
    "    \n",
    "    # Return false otherwise\n",
    "    \n",
    "    else : return False"
   ]
  },
  {
   "cell_type": "code",
   "execution_count": 6,
   "metadata": {},
   "outputs": [],
   "source": [
    "def scanStories(keyword, stories):\n",
    "    \n",
    "    contains = []\n",
    "    not_contains = []\n",
    "    \n",
    "    for story in stories:\n",
    "        \n",
    "        keyword_found = (containsMatch(keyword, story['full_text'])) or (containsMatch(keyword, story['title']))\n",
    "        \n",
    "        if keyword_found:\n",
    "            \n",
    "            story[keyword + '_relative'] = True\n",
    "            \n",
    "            contains.append(story)\n",
    "            \n",
    "        else:\n",
    "            \n",
    "            story[keyword + '_relative'] = False\n",
    "            \n",
    "            not_contains.append(story)\n",
    "            \n",
    "    return (contains, not_contains) "
   ]
  },
  {
   "cell_type": "code",
   "execution_count": 7,
   "metadata": {},
   "outputs": [],
   "source": [
    "def extractTitles(selection):\n",
    "    \n",
    "    titles = []\n",
    "    \n",
    "    for story in selection:\n",
    "        titles.append(story['title'])\n",
    "        \n",
    "    return titles"
   ]
  },
  {
   "cell_type": "code",
   "execution_count": 13,
   "metadata": {},
   "outputs": [],
   "source": [
    "def extract(keyword, stories):\n",
    "    \n",
    "    contains = scanStories(keyword, stories)[0]\n",
    "    not_contains = scanStories(keyword, stories)[1]\n",
    "    \n",
    "    with open('Extractions/contains_' + keyword + '.json', 'w') as json_file:\n",
    "      json.dump(contains, json_file)\n",
    "    \n",
    "    with open('Extractions/not_contains_' + keyword + '.json', 'w') as json_file:\n",
    "      json.dump(not_contains, json_file)\n",
    "    \n",
    "    return"
   ]
  },
  {
   "cell_type": "code",
   "execution_count": 14,
   "metadata": {},
   "outputs": [],
   "source": [
    "# Extract category lists and export to JSON files \n",
    "\n",
    "extract('scalability', stories)"
   ]
  },
  {
   "cell_type": "code",
   "execution_count": null,
   "metadata": {},
   "outputs": [],
   "source": []
  }
 ],
 "metadata": {
  "kernelspec": {
   "display_name": "Python 3",
   "language": "python",
   "name": "python3"
  },
  "language_info": {
   "codemirror_mode": {
    "name": "ipython",
    "version": 3
   },
   "file_extension": ".py",
   "mimetype": "text/x-python",
   "name": "python",
   "nbconvert_exporter": "python",
   "pygments_lexer": "ipython3",
   "version": "3.7.6"
  }
 },
 "nbformat": 4,
 "nbformat_minor": 4
}
